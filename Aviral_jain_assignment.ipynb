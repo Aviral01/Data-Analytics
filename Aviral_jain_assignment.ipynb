{
  "nbformat": 4,
  "nbformat_minor": 0,
  "metadata": {
    "colab": {
      "provenance": []
    },
    "kernelspec": {
      "name": "python3",
      "display_name": "Python 3"
    },
    "language_info": {
      "name": "python"
    }
  },
  "cells": [
    {
      "cell_type": "code",
      "execution_count": null,
      "metadata": {
        "colab": {
          "base_uri": "https://localhost:8080/"
        },
        "id": "UijqtSOiFOwV",
        "outputId": "e9ba7aab-2dea-4c06-fd4e-8a8e52f0ce31"
      },
      "outputs": [
        {
          "output_type": "stream",
          "name": "stdout",
          "text": [
            "     Item Number       Date  Inventory\n",
            "0    064-01-1347 2023-06-17       3561\n",
            "1    064-01-1361 2023-06-17       4035\n",
            "2    064-01-1375 2023-06-17       2684\n",
            "3    064-01-1385 2023-06-17       5136\n",
            "4    064-01-1399 2023-06-17       6399\n",
            "..           ...        ...        ...\n",
            "351  064-18-9909 2023-06-17         12\n",
            "352  064-18-9962 2023-06-17         19\n",
            "353  064-18-0790 2023-06-17          5\n",
            "354  064-18-3316 2023-06-17       7354\n",
            "355  064-18-9667 2023-06-17       7029\n",
            "\n",
            "[356 rows x 3 columns]\n"
          ]
        }
      ],
      "source": [
        "import pandas as pd\n",
        "import matplotlib.pyplot as plt\n",
        "\n",
        "# Creating the inventory dataset\n",
        "inventory_data = pd.read_excel('/content/Inventory Dataset.xlsx')\n",
        "\n",
        "inventory_df = pd.DataFrame(inventory_data)\n",
        "print(inventory_df)"
      ]
    },
    {
      "cell_type": "code",
      "source": [
        "\n",
        "# Creating the new inventory dataset\n",
        "new_inventory_data = pd.read_excel('/content/New Inventory.xlsx')\n",
        "\n",
        "new_inventory_df = pd.DataFrame(new_inventory_data)\n",
        "new_inventory_df.rename(columns={'Inventory Receive': 'Date'}, inplace=True)\n",
        "new_inventory_df.rename(columns={'Total Item Qty': 'Inventory'}, inplace=True)\n",
        "\n",
        "print(new_inventory_df)"
      ],
      "metadata": {
        "id": "-xKoCWMpOmfA",
        "colab": {
          "base_uri": "https://localhost:8080/"
        },
        "outputId": "05a5ffa3-512f-4f3e-ed34-8216a7a0b4b8"
      },
      "execution_count": null,
      "outputs": [
        {
          "output_type": "stream",
          "name": "stdout",
          "text": [
            "      Item Number       Date  Inventory\n",
            "0     064-13-0002 2023-07-07        700\n",
            "1     064-13-0338 2023-07-07       1700\n",
            "2     064-13-0340 2023-07-07       1000\n",
            "3     064-13-0353 2023-07-07       1900\n",
            "4     064-13-0416 2023-07-07       1000\n",
            "...           ...        ...        ...\n",
            "1034  064-09-3787 2023-07-07       2088\n",
            "1035  064-09-5287 2023-07-07       1388\n",
            "1036  064-09-7924 2023-07-07       1632\n",
            "1037  064-09-9076 2023-07-07       1708\n",
            "1038  064-09-9115 2023-07-07       1920\n",
            "\n",
            "[1039 rows x 3 columns]\n"
          ]
        }
      ]
    },
    {
      "cell_type": "code",
      "source": [
        "# Merge the datasets\n",
        "merged_df = inventory_data.append(new_inventory_data,ignore_index=True)\n",
        "print(merged_df.size)"
      ],
      "metadata": {
        "colab": {
          "base_uri": "https://localhost:8080/"
        },
        "id": "RgMjTGQhMr9w",
        "outputId": "564e5cd3-759b-43ca-f5da-17ab2ddbad09"
      },
      "execution_count": null,
      "outputs": [
        {
          "output_type": "stream",
          "name": "stdout",
          "text": [
            "4185\n"
          ]
        },
        {
          "output_type": "stream",
          "name": "stderr",
          "text": [
            "<ipython-input-61-0ca1d4994df0>:2: FutureWarning: The frame.append method is deprecated and will be removed from pandas in a future version. Use pandas.concat instead.\n",
            "  merged_df = inventory_data.append(new_inventory_data,ignore_index=True)\n"
          ]
        }
      ]
    },
    {
      "cell_type": "code",
      "source": [
        "# Pivot the dataframe to create the table\n",
        "pivot_table = merged_df.pivot_table(index='Item Number', columns='Date', values='Inventory', aggfunc='sum')\n",
        "\n",
        "# Display the table\n",
        "print(pivot_table.size)\n"
      ],
      "metadata": {
        "colab": {
          "base_uri": "https://localhost:8080/"
        },
        "id": "k45KslqhO47R",
        "outputId": "4a09a634-0998-42b9-f2cb-a3b759f83683"
      },
      "execution_count": null,
      "outputs": [
        {
          "output_type": "stream",
          "name": "stdout",
          "text": [
            "9672\n"
          ]
        }
      ]
    },
    {
      "cell_type": "code",
      "source": [
        "# Create a bar chart for total monthly inventory levels\n",
        "monthly_inventory = merged_df.groupby(pd.to_datetime(merged_df['Date']).dt.to_period(\"M\")).sum()\n",
        "\n",
        "plt.bar(monthly_inventory.index.astype(str), monthly_inventory['Inventory'])\n",
        "plt.xlabel('Month')\n",
        "plt.ylabel('Total Inventory')\n",
        "plt.title('Total Monthly Inventory Levels')\n",
        "plt.show()\n"
      ],
      "metadata": {
        "colab": {
          "base_uri": "https://localhost:8080/",
          "height": 527
        },
        "id": "KM183JGnQuDB",
        "outputId": "dea394d3-9806-489e-f5f6-cdd6097151e9"
      },
      "execution_count": null,
      "outputs": [
        {
          "output_type": "stream",
          "name": "stderr",
          "text": [
            "<ipython-input-52-b99fbb81f87e>:2: FutureWarning: The default value of numeric_only in DataFrameGroupBy.sum is deprecated. In a future version, numeric_only will default to False. Either specify numeric_only or select only columns which should be valid for the function.\n",
            "  monthly_inventory = merged_df.groupby(pd.to_datetime(merged_df['Date']).dt.to_period(\"M\")).sum()\n"
          ]
        },
        {
          "output_type": "display_data",
          "data": {
            "text/plain": [
              "<Figure size 640x480 with 1 Axes>"
            ],
            "image/png": "[encoded data removed]"
          },
          "metadata": {}
        }
      ]
    },
    {
      "cell_type": "code",
      "source": [],
      "metadata": {
        "id": "F1nkQY7XQvnD"
      },
      "execution_count": null,
      "outputs": []
    }
  ]
}