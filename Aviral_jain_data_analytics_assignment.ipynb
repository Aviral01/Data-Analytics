{
  "nbformat": 4,
  "nbformat_minor": 0,
  "metadata": {
    "colab": {
      "provenance": []
    },
    "kernelspec": {
      "name": "python3",
      "display_name": "Python 3"
    },
    "language_info": {
      "name": "python"
    }
  },
  "cells": [
    {
      "cell_type": "code",
      "execution_count": 2,
      "metadata": {
        "colab": {
          "base_uri": "https://localhost:8080/"
        },
        "id": "UijqtSOiFOwV",
        "outputId": "51ed2604-2e81-4049-d178-e63500d51a67"
      },
      "outputs": [
        {
          "output_type": "stream",
          "name": "stdout",
          "text": [
            "     Item Number       Date  Inventory\n",
            "0    064-01-1347 2023-06-17       3561\n",
            "1    064-01-1361 2023-06-17       4035\n",
            "2    064-01-1375 2023-06-17       2684\n",
            "3    064-01-1385 2023-06-17       5136\n",
            "4    064-01-1399 2023-06-17       6399\n",
            "..           ...        ...        ...\n",
            "351  064-18-9909 2023-06-17         12\n",
            "352  064-18-9962 2023-06-17         19\n",
            "353  064-18-0790 2023-06-17          5\n",
            "354  064-18-3316 2023-06-17       7354\n",
            "355  064-18-9667 2023-06-17       7029\n",
            "\n",
            "[356 rows x 3 columns]\n"
          ]
        }
      ],
      "source": [
        "import pandas as pd\n",
        "import plotly.express as px\n",
        "\n",
        "# Creating the inventory dataset\n",
        "inventory_data = pd.read_excel('/content/Inventory Dataset.xlsx')\n",
        "\n",
        "inventory_df = pd.DataFrame(inventory_data)\n",
        "print(inventory_df)"
      ]
    },
    {
      "cell_type": "code",
      "source": [
        "\n",
        "# Creating the new inventory dataset\n",
        "new_inventory_data = pd.read_excel('/content/New Inventory.xlsx')\n",
        "\n",
        "new_inventory_df = pd.DataFrame(new_inventory_data)\n",
        "new_inventory_df.rename(columns={'Inventory Receive': 'Date'}, inplace=True)\n",
        "new_inventory_df.rename(columns={'Total Item Qty': 'Inventory'}, inplace=True)\n",
        "\n",
        "print(new_inventory_df)"
      ],
      "metadata": {
        "id": "-xKoCWMpOmfA",
        "colab": {
          "base_uri": "https://localhost:8080/"
        },
        "outputId": "efe8a2ee-af85-40d5-84c3-9ce5a76e9c66"
      },
      "execution_count": 3,
      "outputs": [
        {
          "output_type": "stream",
          "name": "stdout",
          "text": [
            "      Item Number       Date  Inventory\n",
            "0     064-13-0002 2023-07-07        700\n",
            "1     064-13-0338 2023-07-07       1700\n",
            "2     064-13-0340 2023-07-07       1000\n",
            "3     064-13-0353 2023-07-07       1900\n",
            "4     064-13-0416 2023-07-07       1000\n",
            "...           ...        ...        ...\n",
            "1034  064-09-3787 2023-07-07       2088\n",
            "1035  064-09-5287 2023-07-07       1388\n",
            "1036  064-09-7924 2023-07-07       1632\n",
            "1037  064-09-9076 2023-07-07       1708\n",
            "1038  064-09-9115 2023-07-07       1920\n",
            "\n",
            "[1039 rows x 3 columns]\n"
          ]
        }
      ]
    },
    {
      "cell_type": "code",
      "source": [
        "# Merge the datasets\n",
        "merged_df = inventory_data.append(new_inventory_data,ignore_index=True)\n",
        "print(merged_df)"
      ],
      "metadata": {
        "colab": {
          "base_uri": "https://localhost:8080/"
        },
        "id": "RgMjTGQhMr9w",
        "outputId": "821ffb33-6237-4022-ab2d-d75e45621dbd"
      },
      "execution_count": 4,
      "outputs": [
        {
          "output_type": "stream",
          "name": "stdout",
          "text": [
            "      Item Number       Date  Inventory\n",
            "0     064-01-1347 2023-06-17       3561\n",
            "1     064-01-1361 2023-06-17       4035\n",
            "2     064-01-1375 2023-06-17       2684\n",
            "3     064-01-1385 2023-06-17       5136\n",
            "4     064-01-1399 2023-06-17       6399\n",
            "...           ...        ...        ...\n",
            "1390  064-09-3787 2023-07-07       2088\n",
            "1391  064-09-5287 2023-07-07       1388\n",
            "1392  064-09-7924 2023-07-07       1632\n",
            "1393  064-09-9076 2023-07-07       1708\n",
            "1394  064-09-9115 2023-07-07       1920\n",
            "\n",
            "[1395 rows x 3 columns]\n"
          ]
        },
        {
          "output_type": "stream",
          "name": "stderr",
          "text": [
            "<ipython-input-4-068203b04377>:2: FutureWarning: The frame.append method is deprecated and will be removed from pandas in a future version. Use pandas.concat instead.\n",
            "  merged_df = inventory_data.append(new_inventory_data,ignore_index=True)\n"
          ]
        }
      ]
    },
    {
      "cell_type": "code",
      "source": [
        "# Pivot the dataframe to create the table\n",
        "pivot_table = merged_df.pivot_table(index='Item Number', columns='Date', values='Inventory', aggfunc='sum')\n",
        "\n",
        "# Display the table\n",
        "print(pivot_table)\n"
      ],
      "metadata": {
        "colab": {
          "base_uri": "https://localhost:8080/"
        },
        "id": "k45KslqhO47R",
        "outputId": "7bc83999-c2c5-4019-8839-a78e307d4bab"
      },
      "execution_count": 6,
      "outputs": [
        {
          "output_type": "stream",
          "name": "stdout",
          "text": [
            "Date         2023-06-17  2023-07-07  2023-07-09  2023-07-10  2023-07-14  \\\n",
            "Item Number                                                               \n",
            "064-01-0003         NaN         NaN         NaN         NaN         NaN   \n",
            "064-01-0005         NaN         NaN         NaN         NaN         NaN   \n",
            "064-01-0006        10.0         NaN         NaN         NaN         NaN   \n",
            "064-01-0012         NaN         NaN         NaN         NaN         NaN   \n",
            "064-01-0013         NaN         NaN         NaN         NaN         NaN   \n",
            "...                 ...         ...         ...         ...         ...   \n",
            "064-18-9884     12419.0         NaN         NaN         NaN         NaN   \n",
            "064-18-9904         NaN         NaN         NaN         NaN         NaN   \n",
            "064-18-9909        12.0         NaN         NaN         NaN         NaN   \n",
            "064-18-9938      2736.0         NaN      2764.0         NaN         NaN   \n",
            "064-18-9962        19.0         NaN         NaN         NaN         NaN   \n",
            "\n",
            "Date         2023-07-21  2023-07-28  2023-08-04  2023-08-16  2023-08-18  ...  \\\n",
            "Item Number                                                              ...   \n",
            "064-01-0003         NaN         NaN         NaN         NaN         NaN  ...   \n",
            "064-01-0005         NaN         NaN         NaN         NaN         NaN  ...   \n",
            "064-01-0006         NaN         NaN         NaN         NaN         NaN  ...   \n",
            "064-01-0012         NaN         NaN         NaN         NaN         NaN  ...   \n",
            "064-01-0013         NaN         NaN         NaN         NaN         NaN  ...   \n",
            "...                 ...         ...         ...         ...         ...  ...   \n",
            "064-18-9884         NaN         NaN         NaN         NaN         NaN  ...   \n",
            "064-18-9904         NaN         NaN         NaN         NaN         NaN  ...   \n",
            "064-18-9909         NaN         NaN         NaN         NaN         NaN  ...   \n",
            "064-18-9938         NaN      3196.0      1368.0      2084.0         NaN  ...   \n",
            "064-18-9962         NaN         NaN         NaN         NaN         NaN  ...   \n",
            "\n",
            "Date         2023-09-22  2023-09-24  2023-09-29  2023-10-08  2023-10-13  \\\n",
            "Item Number                                                               \n",
            "064-01-0003         NaN         NaN      5488.0         NaN      1864.0   \n",
            "064-01-0005         NaN         NaN      7380.0         NaN      2520.0   \n",
            "064-01-0006         NaN         NaN         NaN         NaN         NaN   \n",
            "064-01-0012         NaN         NaN      6840.0         NaN      3244.0   \n",
            "064-01-0013         NaN         NaN      6300.0         NaN      1748.0   \n",
            "...                 ...         ...         ...         ...         ...   \n",
            "064-18-9884         NaN         NaN         NaN         NaN         NaN   \n",
            "064-18-9904         NaN         NaN         NaN         NaN         NaN   \n",
            "064-18-9909         NaN         NaN         NaN         NaN         NaN   \n",
            "064-18-9938         NaN         NaN      1976.0         NaN      1976.0   \n",
            "064-18-9962         NaN         NaN         NaN         NaN         NaN   \n",
            "\n",
            "Date         2023-10-22  2023-11-26  2023-12-01  2023-12-08  2023-12-15  \n",
            "Item Number                                                              \n",
            "064-01-0003         NaN         NaN         NaN         NaN         NaN  \n",
            "064-01-0005         NaN         NaN         NaN         NaN         NaN  \n",
            "064-01-0006         NaN         NaN         NaN         NaN         NaN  \n",
            "064-01-0012         NaN         NaN         NaN         NaN         NaN  \n",
            "064-01-0013         NaN         NaN         NaN         NaN         NaN  \n",
            "...                 ...         ...         ...         ...         ...  \n",
            "064-18-9884         NaN         NaN         NaN         NaN         NaN  \n",
            "064-18-9904         NaN         NaN     18700.0         NaN      5100.0  \n",
            "064-18-9909         NaN         NaN         NaN         NaN         NaN  \n",
            "064-18-9938         NaN         NaN         NaN         NaN         NaN  \n",
            "064-18-9962         NaN         NaN         NaN         NaN         NaN  \n",
            "\n",
            "[403 rows x 24 columns]\n"
          ]
        }
      ]
    },
    {
      "cell_type": "code",
      "source": [
        "# Convert the 'Date' column to datetime\n",
        "merged_df['Date'] = pd.to_datetime(merged_df['Date'])\n",
        "\n",
        "# Group by month and sum\n",
        "monthly_inventory = merged_df.groupby(merged_df['Date'].dt.to_period(\"M\")).sum()\n",
        "\n",
        "# Plot using Plotly\n",
        "fig = px.bar(x=monthly_inventory.index.astype(str), y=monthly_inventory['Inventory'],\n",
        "             labels={'x': 'Month', 'y': 'Total Inventory'},\n",
        "             title='Total Monthly Inventory Levels')\n",
        "\n",
        "# Show the interactive chart\n",
        "fig.show()\n"
      ],
      "metadata": {
        "colab": {
          "base_uri": "https://localhost:8080/",
          "height": 631
        },
        "id": "sFKIEXaRrFfN",
        "outputId": "834428e6-cbe7-4519-b50b-09d29d07afb4"
      },
      "execution_count": 13,
      "outputs": [
        {
          "output_type": "stream",
          "name": "stderr",
          "text": [
            "<ipython-input-13-20d2f797dbd5>:5: FutureWarning:\n",
            "\n",
            "The default value of numeric_only in DataFrameGroupBy.sum is deprecated. In a future version, numeric_only will default to False. Either specify numeric_only or select only columns which should be valid for the function.\n",
            "\n"
          ]
        },
        {
          "output_type": "display_data",
          "data": {
            "text/html": [
              "<html>\n",
              "<head><meta charset=\"utf-8\" /></head>\n",
              "<body>\n",
              "    <div>            <script src=\"https://cdnjs.cloudflare.com/ajax/libs/mathjax/2.7.5/MathJax.js?config=TeX-AMS-MML_SVG\"></script><script type=\"text/javascript\">if (window.MathJax && window.MathJax.Hub && window.MathJax.Hub.Config) {window.MathJax.Hub.Config({SVG: {font: \"STIX-Web\"}});}</script>                <script type=\"text/javascript\">window.PlotlyConfig = {MathJaxConfig: 'local'};</script>\n",
              "        <script charset=\"utf-8\" src=\"https://cdn.plot.ly/plotly-2.24.1.min.js\"></script>                <div id=\"d54e9501-03bc-4835-ac86-356c7d30e9c1\" class=\"plotly-graph-div\" style=\"height:525px; width:100%;\"></div>            <script type=\"text/javascript\">                                    window.PLOTLYENV=window.PLOTLYENV || {};                                    if (document.getElementById(\"d54e9501-03bc-4835-ac86-356c7d30e9c1\")) {                    Plotly.newPlot(                        \"d54e9501-03bc-4835-ac86-356c7d30e9c1\",                        [{\"alignmentgroup\":\"True\",\"hovertemplate\":\"Month=%{x}\\u003cbr\\u003eTotal Inventory=%{y}\\u003cextra\\u003e\\u003c\\u002fextra\\u003e\",\"legendgroup\":\"\",\"marker\":{\"color\":\"#636efa\",\"pattern\":{\"shape\":\"\"}},\"name\":\"\",\"offsetgroup\":\"\",\"orientation\":\"v\",\"showlegend\":false,\"textposition\":\"auto\",\"x\":[\"2023-06\",\"2023-07\",\"2023-08\",\"2023-09\",\"2023-10\",\"2023-11\",\"2023-12\"],\"xaxis\":\"x\",\"y\":[1388034,698592,726094,670252,303826,24848,63172],\"yaxis\":\"y\",\"type\":\"bar\"}],                        {\"template\":{\"data\":{\"histogram2dcontour\":[{\"type\":\"histogram2dcontour\",\"colorbar\":{\"outlinewidth\":0,\"ticks\":\"\"},\"colorscale\":[[0.0,\"#0d0887\"],[0.1111111111111111,\"#46039f\"],[0.2222222222222222,\"#7201a8\"],[0.3333333333333333,\"#9c179e\"],[0.4444444444444444,\"#bd3786\"],[0.5555555555555556,\"#d8576b\"],[0.6666666666666666,\"#ed7953\"],[0.7777777777777778,\"#fb9f3a\"],[0.8888888888888888,\"#fdca26\"],[1.0,\"#f0f921\"]]}],\"choropleth\":[{\"type\":\"choropleth\",\"colorbar\":{\"outlinewidth\":0,\"ticks\":\"\"}}],\"histogram2d\":[{\"type\":\"histogram2d\",\"colorbar\":{\"outlinewidth\":0,\"ticks\":\"\"},\"colorscale\":[[0.0,\"#0d0887\"],[0.1111111111111111,\"#46039f\"],[0.2222222222222222,\"#7201a8\"],[0.3333333333333333,\"#9c179e\"],[0.4444444444444444,\"#bd3786\"],[0.5555555555555556,\"#d8576b\"],[0.6666666666666666,\"#ed7953\"],[0.7777777777777778,\"#fb9f3a\"],[0.8888888888888888,\"#fdca26\"],[1.0,\"#f0f921\"]]}],\"heatmap\":[{\"type\":\"heatmap\",\"colorbar\":{\"outlinewidth\":0,\"ticks\":\"\"},\"colorscale\":[[0.0,\"#0d0887\"],[0.1111111111111111,\"#46039f\"],[0.2222222222222222,\"#7201a8\"],[0.3333333333333333,\"#9c179e\"],[0.4444444444444444,\"#bd3786\"],[0.5555555555555556,\"#d8576b\"],[0.6666666666666666,\"#ed7953\"],[0.7777777777777778,\"#fb9f3a\"],[0.8888888888888888,\"#fdca26\"],[1.0,\"#f0f921\"]]}],\"heatmapgl\":[{\"type\":\"heatmapgl\",\"colorbar\":{\"outlinewidth\":0,\"ticks\":\"\"},\"colorscale\":[[0.0,\"#0d0887\"],[0.1111111111111111,\"#46039f\"],[0.2222222222222222,\"#7201a8\"],[0.3333333333333333,\"#9c179e\"],[0.4444444444444444,\"#bd3786\"],[0.5555555555555556,\"#d8576b\"],[0.6666666666666666,\"#ed7953\"],[0.7777777777777778,\"#fb9f3a\"],[0.8888888888888888,\"#fdca26\"],[1.0,\"#f0f921\"]]}],\"contourcarpet\":[{\"type\":\"contourcarpet\",\"colorbar\":{\"outlinewidth\":0,\"ticks\":\"\"}}],\"contour\":[{\"type\":\"contour\",\"colorbar\":{\"outlinewidth\":0,\"ticks\":\"\"},\"colorscale\":[[0.0,\"#0d0887\"],[0.1111111111111111,\"#46039f\"],[0.2222222222222222,\"#7201a8\"],[0.3333333333333333,\"#9c179e\"],[0.4444444444444444,\"#bd3786\"],[0.5555555555555556,\"#d8576b\"],[0.6666666666666666,\"#ed7953\"],[0.7777777777777778,\"#fb9f3a\"],[0.8888888888888888,\"#fdca26\"],[1.0,\"#f0f921\"]]}],\"surface\":[{\"type\":\"surface\",\"colorbar\":{\"outlinewidth\":0,\"ticks\":\"\"},\"colorscale\":[[0.0,\"#0d0887\"],[0.1111111111111111,\"#46039f\"],[0.2222222222222222,\"#7201a8\"],[0.3333333333333333,\"#9c179e\"],[0.4444444444444444,\"#bd3786\"],[0.5555555555555556,\"#d8576b\"],[0.6666666666666666,\"#ed7953\"],[0.7777777777777778,\"#fb9f3a\"],[0.8888888888888888,\"#fdca26\"],[1.0,\"#f0f921\"]]}],\"mesh3d\":[{\"type\":\"mesh3d\",\"colorbar\":{\"outlinewidth\":0,\"ticks\":\"\"}}],\"scatter\":[{\"fillpattern\":{\"fillmode\":\"overlay\",\"size\":10,\"solidity\":0.2},\"type\":\"scatter\"}],\"parcoords\":[{\"type\":\"parcoords\",\"line\":{\"colorbar\":{\"outlinewidth\":0,\"ticks\":\"\"}}}],\"scatterpolargl\":[{\"type\":\"scatterpolargl\",\"marker\":{\"colorbar\":{\"outlinewidth\":0,\"ticks\":\"\"}}}],\"bar\":[{\"error_x\":{\"color\":\"#2a3f5f\"},\"error_y\":{\"color\":\"#2a3f5f\"},\"marker\":{\"line\":{\"color\":\"#E5ECF6\",\"width\":0.5},\"pattern\":{\"fillmode\":\"overlay\",\"size\":10,\"solidity\":0.2}},\"type\":\"bar\"}],\"scattergeo\":[{\"type\":\"scattergeo\",\"marker\":{\"colorbar\":{\"outlinewidth\":0,\"ticks\":\"\"}}}],\"scatterpolar\":[{\"type\":\"scatterpolar\",\"marker\":{\"colorbar\":{\"outlinewidth\":0,\"ticks\":\"\"}}}],\"histogram\":[{\"marker\":{\"pattern\":{\"fillmode\":\"overlay\",\"size\":10,\"solidity\":0.2}},\"type\":\"histogram\"}],\"scattergl\":[{\"type\":\"scattergl\",\"marker\":{\"colorbar\":{\"outlinewidth\":0,\"ticks\":\"\"}}}],\"scatter3d\":[{\"type\":\"scatter3d\",\"line\":{\"colorbar\":{\"outlinewidth\":0,\"ticks\":\"\"}},\"marker\":{\"colorbar\":{\"outlinewidth\":0,\"ticks\":\"\"}}}],\"scattermapbox\":[{\"type\":\"scattermapbox\",\"marker\":{\"colorbar\":{\"outlinewidth\":0,\"ticks\":\"\"}}}],\"scatterternary\":[{\"type\":\"scatterternary\",\"marker\":{\"colorbar\":{\"outlinewidth\":0,\"ticks\":\"\"}}}],\"scattercarpet\":[{\"type\":\"scattercarpet\",\"marker\":{\"colorbar\":{\"outlinewidth\":0,\"ticks\":\"\"}}}],\"carpet\":[{\"aaxis\":{\"endlinecolor\":\"#2a3f5f\",\"gridcolor\":\"white\",\"linecolor\":\"white\",\"minorgridcolor\":\"white\",\"startlinecolor\":\"#2a3f5f\"},\"baxis\":{\"endlinecolor\":\"#2a3f5f\",\"gridcolor\":\"white\",\"linecolor\":\"white\",\"minorgridcolor\":\"white\",\"startlinecolor\":\"#2a3f5f\"},\"type\":\"carpet\"}],\"table\":[{\"cells\":{\"fill\":{\"color\":\"#EBF0F8\"},\"line\":{\"color\":\"white\"}},\"header\":{\"fill\":{\"color\":\"#C8D4E3\"},\"line\":{\"color\":\"white\"}},\"type\":\"table\"}],\"barpolar\":[{\"marker\":{\"line\":{\"color\":\"#E5ECF6\",\"width\":0.5},\"pattern\":{\"fillmode\":\"overlay\",\"size\":10,\"solidity\":0.2}},\"type\":\"barpolar\"}],\"pie\":[{\"automargin\":true,\"type\":\"pie\"}]},\"layout\":{\"autotypenumbers\":\"strict\",\"colorway\":[\"#636efa\",\"#EF553B\",\"#00cc96\",\"#ab63fa\",\"#FFA15A\",\"#19d3f3\",\"#FF6692\",\"#B6E880\",\"#FF97FF\",\"#FECB52\"],\"font\":{\"color\":\"#2a3f5f\"},\"hovermode\":\"closest\",\"hoverlabel\":{\"align\":\"left\"},\"paper_bgcolor\":\"white\",\"plot_bgcolor\":\"#E5ECF6\",\"polar\":{\"bgcolor\":\"#E5ECF6\",\"angularaxis\":{\"gridcolor\":\"white\",\"linecolor\":\"white\",\"ticks\":\"\"},\"radialaxis\":{\"gridcolor\":\"white\",\"linecolor\":\"white\",\"ticks\":\"\"}},\"ternary\":{\"bgcolor\":\"#E5ECF6\",\"aaxis\":{\"gridcolor\":\"white\",\"linecolor\":\"white\",\"ticks\":\"\"},\"baxis\":{\"gridcolor\":\"white\",\"linecolor\":\"white\",\"ticks\":\"\"},\"caxis\":{\"gridcolor\":\"white\",\"linecolor\":\"white\",\"ticks\":\"\"}},\"coloraxis\":{\"colorbar\":{\"outlinewidth\":0,\"ticks\":\"\"}},\"colorscale\":{\"sequential\":[[0.0,\"#0d0887\"],[0.1111111111111111,\"#46039f\"],[0.2222222222222222,\"#7201a8\"],[0.3333333333333333,\"#9c179e\"],[0.4444444444444444,\"#bd3786\"],[0.5555555555555556,\"#d8576b\"],[0.6666666666666666,\"#ed7953\"],[0.7777777777777778,\"#fb9f3a\"],[0.8888888888888888,\"#fdca26\"],[1.0,\"#f0f921\"]],\"sequentialminus\":[[0.0,\"#0d0887\"],[0.1111111111111111,\"#46039f\"],[0.2222222222222222,\"#7201a8\"],[0.3333333333333333,\"#9c179e\"],[0.4444444444444444,\"#bd3786\"],[0.5555555555555556,\"#d8576b\"],[0.6666666666666666,\"#ed7953\"],[0.7777777777777778,\"#fb9f3a\"],[0.8888888888888888,\"#fdca26\"],[1.0,\"#f0f921\"]],\"diverging\":[[0,\"#8e0152\"],[0.1,\"#c51b7d\"],[0.2,\"#de77ae\"],[0.3,\"#f1b6da\"],[0.4,\"#fde0ef\"],[0.5,\"#f7f7f7\"],[0.6,\"#e6f5d0\"],[0.7,\"#b8e186\"],[0.8,\"#7fbc41\"],[0.9,\"#4d9221\"],[1,\"#276419\"]]},\"xaxis\":{\"gridcolor\":\"white\",\"linecolor\":\"white\",\"ticks\":\"\",\"title\":{\"standoff\":15},\"zerolinecolor\":\"white\",\"automargin\":true,\"zerolinewidth\":2},\"yaxis\":{\"gridcolor\":\"white\",\"linecolor\":\"white\",\"ticks\":\"\",\"title\":{\"standoff\":15},\"zerolinecolor\":\"white\",\"automargin\":true,\"zerolinewidth\":2},\"scene\":{\"xaxis\":{\"backgroundcolor\":\"#E5ECF6\",\"gridcolor\":\"white\",\"linecolor\":\"white\",\"showbackground\":true,\"ticks\":\"\",\"zerolinecolor\":\"white\",\"gridwidth\":2},\"yaxis\":{\"backgroundcolor\":\"#E5ECF6\",\"gridcolor\":\"white\",\"linecolor\":\"white\",\"showbackground\":true,\"ticks\":\"\",\"zerolinecolor\":\"white\",\"gridwidth\":2},\"zaxis\":{\"backgroundcolor\":\"#E5ECF6\",\"gridcolor\":\"white\",\"linecolor\":\"white\",\"showbackground\":true,\"ticks\":\"\",\"zerolinecolor\":\"white\",\"gridwidth\":2}},\"shapedefaults\":{\"line\":{\"color\":\"#2a3f5f\"}},\"annotationdefaults\":{\"arrowcolor\":\"#2a3f5f\",\"arrowhead\":0,\"arrowwidth\":1},\"geo\":{\"bgcolor\":\"white\",\"landcolor\":\"#E5ECF6\",\"subunitcolor\":\"white\",\"showland\":true,\"showlakes\":true,\"lakecolor\":\"white\"},\"title\":{\"x\":0.05},\"mapbox\":{\"style\":\"light\"}}},\"xaxis\":{\"anchor\":\"y\",\"domain\":[0.0,1.0],\"title\":{\"text\":\"Month\"}},\"yaxis\":{\"anchor\":\"x\",\"domain\":[0.0,1.0],\"title\":{\"text\":\"Total Inventory\"}},\"legend\":{\"tracegroupgap\":0},\"title\":{\"text\":\"Total Monthly Inventory Levels\"},\"barmode\":\"relative\"},                        {\"responsive\": true}                    ).then(function(){\n",
              "                            \n",
              "var gd = document.getElementById('d54e9501-03bc-4835-ac86-356c7d30e9c1');\n",
              "var x = new MutationObserver(function (mutations, observer) {{\n",
              "        var display = window.getComputedStyle(gd).display;\n",
              "        if (!display || display === 'none') {{\n",
              "            console.log([gd, 'removed!']);\n",
              "            Plotly.purge(gd);\n",
              "            observer.disconnect();\n",
              "        }}\n",
              "}});\n",
              "\n",
              "// Listen for the removal of the full notebook cells\n",
              "var notebookContainer = gd.closest('#notebook-container');\n",
              "if (notebookContainer) {{\n",
              "    x.observe(notebookContainer, {childList: true});\n",
              "}}\n",
              "\n",
              "// Listen for the clearing of the current output cell\n",
              "var outputEl = gd.closest('.output');\n",
              "if (outputEl) {{\n",
              "    x.observe(outputEl, {childList: true});\n",
              "}}\n",
              "\n",
              "                        })                };                            </script>        </div>\n",
              "</body>\n",
              "</html>"
            ]
          },
          "metadata": {}
        }
      ]
    },
    {
      "cell_type": "code",
      "source": [],
      "metadata": {
        "id": "smEDAE3Eri93"
      },
      "execution_count": null,
      "outputs": []
    }
  ]
}